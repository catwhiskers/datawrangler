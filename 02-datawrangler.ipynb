{
 "cells": [
  {
   "cell_type": "markdown",
   "id": "possible-pearl",
   "metadata": {},
   "source": [
    "# Data Ingestion "
   ]
  },
  {
   "cell_type": "markdown",
   "id": "coordinate-provider",
   "metadata": {},
   "source": [
    "## 1. train.csv "
   ]
  },
  {
   "cell_type": "markdown",
   "id": "mineral-canyon",
   "metadata": {},
   "source": [
    "\n",
    "## Import data \n",
    "\n",
    "#### Select the type of data source \n",
    "\n",
    "![select the type of data source](images/import-data.png)\n",
    "\n",
    "\n",
    "#### Select the bucket and file object \n",
    "\n",
    "![select the file object](images/select-source.png)\n",
    "\n",
    "     \n",
    "#### Once it is imported we can perform some actions on the table \n",
    "\n",
    "![available actions](images/actions-available.png)\n",
    "\n",
    "## Questions to be answered - \n",
    "\n",
    "### how many data in this data \n",
    "\n",
    "#### Trigger analysis - summary\n",
    "\n",
    "![train summary](images/train-summary.png)\n",
    "\n",
    "\n",
    "### What are important features \n",
    "\n",
    "#### Use histogram plot to get some understanding \n",
    "![train summary](images/target-vs-systemtab.png)\n",
    "\n",
    "### How to process those features \n",
    "\n",
    "#### Use trainsform action \n",
    "![train summary](images/add-transform.png)\n",
    "#### Tranform categorical columns \n",
    "![transform columns](images/encode-categorical-preview.png)"
   ]
  },
  {
   "cell_type": "markdown",
   "id": "coastal-diesel",
   "metadata": {},
   "source": [
    "# 2. members.csv and songs.csv \n",
    "## Import data from S3\n",
    "## Questions to be answered \n",
    "### how many data in this data ? \n",
    "#### Analytic - table summary \n",
    "### What are important features ? \n",
    "#### Seems we correlate features with target at this time \n",
    "#### Use domain knowledge at this moment \n",
    "### How to process those features - Members ?  \n",
    "#### fillup missing values \n",
    "> gender of members \n",
    "#### transform categorical columns \n",
    "> gender and city \n",
    "#### handle outliers \n",
    "> bd of members \n",
    "#### drop unnecessary columns \n",
    "> registered_via, registration_init_time, expiration date \n",
    "### How to process those features - Songs ?  \n",
    "#### drop columns with too many missing values \n",
    "> composer and lyricist\n",
    "#### transform categorical columns \n",
    "> genre_ids, artist_name and language\n",
    "\n",
    "\n"
   ]
  },
  {
   "cell_type": "markdown",
   "id": "human-judgment",
   "metadata": {},
   "source": [
    "# 3. Join into a big table "
   ]
  },
  {
   "cell_type": "markdown",
   "id": "intimate-delaware",
   "metadata": {},
   "source": [
    "## Recap - Use attributes of a user and a song to predict if the user will listen to the song more then 30 seconds \n",
    "## We want to derive a table containing \n",
    "#### 1. user - song interaction, if he/she listened to a song more then 30 seconds, the target will be 1 otherwise it will be 0 \n",
    "#### 2. The context of the user - song interaction \n",
    "#### 3. user meta data \n",
    "#### 4. song meta data \n"
   ]
  },
  {
   "cell_type": "markdown",
   "id": "alike-uncertainty",
   "metadata": {},
   "source": [
    "## Use Join function to join table train and members \n"
   ]
  },
  {
   "cell_type": "markdown",
   "id": "judicial-alfred",
   "metadata": {},
   "source": [
    "#### plan - use train table (left) to join members (right) by inner join on key \"msno\"\n",
    "> trigger join by right click the left table \n",
    "![init join](images/join.png)\n",
    "> configure join tables - left, right \n",
    "![configure join](images/join-configure-1.png)\n",
    "> configure join strategy - inner, key=msno, output table name  \n",
    "![configure join](images/join-configure-2.png)"
   ]
  },
  {
   "cell_type": "markdown",
   "id": "legislative-sweet",
   "metadata": {},
   "source": [
    "#### plan - use train_member table (left) to join songs (right) by inner join on key \"song_id\"\n",
    "> trigger join by right click the left table \n",
    "\n",
    "> configure join tables - left, right \n",
    "\n",
    "> configure join strategy - inner, key=msno, output table name  \n"
   ]
  },
  {
   "cell_type": "markdown",
   "id": "located-transparency",
   "metadata": {},
   "source": [
    "# Quick Validate the data Processing \n"
   ]
  },
  {
   "cell_type": "markdown",
   "id": "comparative-township",
   "metadata": {},
   "source": [
    "## Recap - Use attributes of a user and a song to predict if the user will listen to the song more then 30 seconds \n",
    "## We want to test immediately \n",
    "### Use Quick Model function to do quick test "
   ]
  },
  {
   "cell_type": "markdown",
   "id": "conceptual-school",
   "metadata": {},
   "source": [
    "#### For joined table train_member_songs, we perform analysis \n",
    "> trigger analysis \n",
    "![trigger analysis](images/analysis.png)\n",
    "> select quick model to do validation \n",
    "![select quick model](images/quickmodel.png)\n",
    "> observe feature importance to make sure if the data processing is reasonable \n",
    "![observe f1 and feature importance](images/featureimportance.png)"
   ]
  },
  {
   "cell_type": "markdown",
   "id": "technological-gambling",
   "metadata": {},
   "source": [
    "# Is that reasonable? Do data processing in an iterative way \n",
    "### Let's do some data processing "
   ]
  },
  {
   "cell_type": "markdown",
   "id": "secure-pricing",
   "metadata": {},
   "source": [
    "# Export \n",
    "### we want to formalize the data processing and training procedure \n",
    "> Reorder the columns for preparation \n",
    "![reorder columns for preparation](images/reorder.png)\n",
    "\n",
    "> switch to export tab \n",
    "![switch tab](images/exporttab.png)\n",
    "\n",
    "> select the step you want to export \n",
    "![select export step](images/exportstep.png)"
   ]
  },
  {
   "cell_type": "code",
   "execution_count": null,
   "id": "overall-savannah",
   "metadata": {},
   "outputs": [],
   "source": []
  }
 ],
 "metadata": {
  "kernelspec": {
   "display_name": "conda_python3",
   "language": "python",
   "name": "conda_python3"
  },
  "language_info": {
   "codemirror_mode": {
    "name": "ipython",
    "version": 3
   },
   "file_extension": ".py",
   "mimetype": "text/x-python",
   "name": "python",
   "nbconvert_exporter": "python",
   "pygments_lexer": "ipython3",
   "version": "3.6.13"
  }
 },
 "nbformat": 4,
 "nbformat_minor": 5
}
