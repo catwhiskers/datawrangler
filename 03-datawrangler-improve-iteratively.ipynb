{
 "cells": [
  {
   "cell_type": "markdown",
   "id": "endless-climate",
   "metadata": {},
   "source": [
    "# User Profile "
   ]
  },
  {
   "cell_type": "markdown",
   "id": "graphic-workstation",
   "metadata": {},
   "source": [
    "##  1. favorite genre of a user \n",
    "> custom transform\n",
    "```\n",
    "df = df[df['target']==1]\n",
    "grouped = df[['msno_0', 'genre_ids']].groupby(['msno_0', 'genre_ids']).count().reset_index()\n",
    "df = grouped.groupby(['msno_0']).max().reset_index()\n",
    "```\n",
    "> how to evaluate \n"
   ]
  },
  {
   "cell_type": "markdown",
   "id": "pointed-disability",
   "metadata": {},
   "source": [
    "##  2. favorite artist of a user ?"
   ]
  },
  {
   "cell_type": "markdown",
   "id": "every-commons",
   "metadata": {},
   "source": [
    "##  3. Is that song popular ?"
   ]
  },
  {
   "cell_type": "code",
   "execution_count": null,
   "id": "hollow-colon",
   "metadata": {},
   "outputs": [],
   "source": []
  }
 ],
 "metadata": {
  "kernelspec": {
   "display_name": "conda_python3",
   "language": "python",
   "name": "conda_python3"
  },
  "language_info": {
   "codemirror_mode": {
    "name": "ipython",
    "version": 3
   },
   "file_extension": ".py",
   "mimetype": "text/x-python",
   "name": "python",
   "nbconvert_exporter": "python",
   "pygments_lexer": "ipython3",
   "version": "3.6.13"
  }
 },
 "nbformat": 4,
 "nbformat_minor": 5
}
