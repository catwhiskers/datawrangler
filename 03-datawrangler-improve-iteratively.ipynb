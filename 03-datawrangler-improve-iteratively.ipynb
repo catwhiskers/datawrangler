{
 "cells": [
  {
   "cell_type": "markdown",
   "id": "hundred-apple",
   "metadata": {},
   "source": [
    "# User Profile and Song Meta \n",
    "## Can we achieve that? \n",
    "![final result](images/result.png)\n"
   ]
  },
  {
   "cell_type": "markdown",
   "id": "fatty-penguin",
   "metadata": {},
   "source": [
    "##  1. favorite genre of a user \n",
    "> custom transform\n",
    "```\n",
    "df = df[df['target']==1]\n",
    "grouped = df[['msno_0', 'genre_ids']].groupby(['msno_0', 'genre_ids']).count().reset_index()\n",
    "df = grouped.groupby(['msno_0']).max().reset_index()\n",
    "```\n",
    "> how to evaluate \n",
    ">> 1. join \n",
    ">> 2. transform table \n",
    ">> 2. quick model "
   ]
  },
  {
   "cell_type": "markdown",
   "id": "friendly-afternoon",
   "metadata": {},
   "source": [
    "##  2. favorite artist of a user ?"
   ]
  },
  {
   "cell_type": "markdown",
   "id": "ongoing-admission",
   "metadata": {},
   "source": [
    "##  3. Is that song popular ?\n",
    "> custom transform and rename column \n",
    "```\n",
    "df = df[df['target']==1]\n",
    "df = df[['msno_0', 'song_id_0']].groupby(['song_id_0']).count().reset_index()\n",
    "```\n",
    "> How to evaluate \n",
    ">> 1. join \n",
    ">> 2. transform table \n",
    ">> 3. quick model \n"
   ]
  },
  {
   "cell_type": "code",
   "execution_count": null,
   "id": "adequate-muslim",
   "metadata": {},
   "outputs": [],
   "source": []
  }
 ],
 "metadata": {
  "kernelspec": {
   "display_name": "conda_python3",
   "language": "python",
   "name": "conda_python3"
  },
  "language_info": {
   "codemirror_mode": {
    "name": "ipython",
    "version": 3
   },
   "file_extension": ".py",
   "mimetype": "text/x-python",
   "name": "python",
   "nbconvert_exporter": "python",
   "pygments_lexer": "ipython3",
   "version": "3.6.13"
  }
 },
 "nbformat": 4,
 "nbformat_minor": 5
}
